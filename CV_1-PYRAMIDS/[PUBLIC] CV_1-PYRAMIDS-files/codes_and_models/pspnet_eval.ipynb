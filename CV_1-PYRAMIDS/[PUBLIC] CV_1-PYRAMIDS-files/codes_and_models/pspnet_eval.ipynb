{
  "cells": [
    {
      "cell_type": "code",
      "execution_count": null,
      "metadata": {
        "colab": {
          "base_uri": "https://localhost:8080/"
        },
        "id": "boGDbRJzvsZY",
        "outputId": "812e65cf-f316-43f4-bc99-397034786d1d"
      },
      "outputs": [
        {
          "name": "stdout",
          "output_type": "stream",
          "text": [
            "Mounted at /content/drive\n"
          ]
        }
      ],
      "source": [
        "# prompt: mount google drive\n",
        "\n",
        "from google.colab import drive\n",
        "drive.mount('/content/drive')\n"
      ]
    },
    {
      "cell_type": "code",
      "execution_count": null,
      "metadata": {
        "colab": {
          "base_uri": "https://localhost:8080/"
        },
        "id": "bXIZKe6cwCYi",
        "outputId": "7296b2d4-bf81-446c-99ce-11ee417185c4"
      },
      "outputs": [
        {
          "name": "stdout",
          "output_type": "stream",
          "text": [
            "/content/drive/MyDrive/CV_1-PYRAMIDS-files/codes_and_models\n"
          ]
        }
      ],
      "source": [
        "# prompt: cd inside the CV_1-Pyramids-files\n",
        "\n",
        "%cd /content/drive/MyDrive/CV_1-PYRAMIDS-files/codes_and_models\n"
      ]
    },
    {
      "cell_type": "code",
      "execution_count": null,
      "metadata": {
        "colab": {
          "base_uri": "https://localhost:8080/"
        },
        "id": "RF83R3Dg0isj",
        "outputId": "70eda93b-cb51-439d-ae71-25f3ebbe2abe"
      },
      "outputs": [
        {
          "name": "stdout",
          "output_type": "stream",
          "text": [
            "fine_val.txt\n",
            "leftImg8bit/val/frankfurt/frankfurt_000000_000294_leftImg8bit.png gtFine/val/frankfurt/frankfurt_000000_000294_gtFine_labelIds.png\n",
            "leftImg8bit/val/frankfurt/frankfurt_000000_000576_leftImg8bit.png gtFine/val/frankfurt/frankfurt_000000_000576_gtFine_labelIds.png\n"
          ]
        }
      ],
      "source": [
        "!ls /content/drive/MyDrive/CV_1-PYRAMIDS-files/cityscapes_dataset/list/cityscapes/\n",
        "!head -n 2 /content/drive/MyDrive/CV_1-PYRAMIDS-files/cityscapes_dataset/list/cityscapes/fine_val.txt"
      ]
    },
    {
      "cell_type": "code",
      "execution_count": null,
      "metadata": {
        "colab": {
          "background_save": true,
          "base_uri": "https://localhost:8080/"
        },
        "id": "PEQu224kz5bB",
        "outputId": "2e5afb6c-4a9b-4110-966a-75fa306452ea"
      },
      "outputs": [
        {
          "name": "stdout",
          "output_type": "stream",
          "text": [
            "/content/drive/MyDrive/CV_1-PYRAMIDS-files/codes_and_models\n",
            "Totally 500 samples in val set.\n",
            "Starting Checking image&label pair val list...\n",
            "Checking image&label pair val list done!\n",
            "/usr/local/lib/python3.10/dist-packages/torch/utils/data/dataloader.py:617: UserWarning: This DataLoader will create 4 worker processes in total. Our suggested max number of worker in current system is 2, which is smaller than what this DataLoader is going to create. Please be aware that excessive worker creation might get DataLoader running slow or even freeze, lower the worker number to avoid potential slowness/freeze if necessary.\n",
            "  warnings.warn(\n",
            "/content/drive/MyDrive/CV_1-PYRAMIDS-files/codes_and_models/pspnet_eval.py:65: FutureWarning: You are using `torch.load` with `weights_only=False` (the current default value), which uses the default pickle module implicitly. It is possible to construct malicious pickle data which will execute arbitrary code during unpickling (See https://github.com/pytorch/pytorch/blob/main/SECURITY.md#untrusted-models for more details). In a future release, the default value for `weights_only` will be flipped to `True`. This limits the functions that could be executed during unpickling. Arbitrary objects will no longer be allowed to be loaded via this mode unless they are explicitly allowlisted by the user via `torch.serialization.add_safe_globals`. We recommend you start setting `weights_only=True` for any use case where you don't have full control of the loaded file. Please open an issue on GitHub for any issues related to this experimental feature.\n",
            "  model.load_state_dict(torch.load('train_epoch_200_CPU.pth'))\n",
            "Processed 10/500 images\n",
            "Processed 20/500 images\n",
            "Processed 30/500 images\n",
            "Processed 40/500 images\n",
            "Processed 50/500 images\n",
            "Processed 60/500 images\n",
            "Processed 70/500 images\n",
            "Processed 80/500 images\n",
            "Processed 90/500 images\n",
            "Processed 100/500 images\n",
            "Processed 110/500 images\n",
            "Processed 120/500 images\n",
            "Processed 130/500 images\n",
            "Processed 140/500 images\n",
            "Processed 150/500 images\n",
            "Processed 160/500 images\n",
            "Processed 170/500 images\n",
            "Processed 180/500 images\n",
            "Processed 190/500 images\n",
            "Processed 200/500 images\n",
            "Processed 210/500 images\n",
            "Processed 220/500 images\n",
            "Processed 230/500 images\n",
            "Processed 240/500 images\n",
            "Processed 250/500 images\n",
            "Processed 260/500 images\n",
            "Processed 270/500 images\n",
            "Processed 280/500 images\n",
            "Processed 290/500 images\n",
            "Processed 300/500 images\n",
            "Processed 310/500 images\n",
            "Processed 320/500 images\n",
            "Processed 330/500 images\n",
            "Processed 340/500 images\n",
            "Processed 350/500 images\n",
            "Processed 360/500 images\n",
            "Processed 370/500 images\n",
            "Processed 380/500 images\n",
            "Processed 390/500 images\n",
            "Processed 400/500 images\n",
            "Processed 410/500 images\n",
            "Processed 420/500 images\n",
            "Processed 430/500 images\n",
            "Processed 440/500 images\n",
            "Processed 450/500 images\n",
            "Processed 460/500 images\n",
            "Processed 470/500 images\n",
            "Processed 480/500 images\n",
            "Processed 490/500 images\n",
            "Processed 500/500 images\n",
            "\n",
            "Final Results:\n",
            "Mean IoU: 0.2231 ± 0.0452\n",
            "Mean Pixel Accuracy: 0.9238 ± 0.0910\n",
            "\n",
            "Per-class IoU:\n",
            "unlabeled: 0.0000\n",
            "ego vehicle: 0.9329\n",
            "rectification border: 0.0000\n",
            "out of roi: 0.0000\n",
            "static: 0.2085\n",
            "dynamic: 0.0542\n",
            "ground: 0.0319\n",
            "road: 0.9452\n",
            "sidewalk: 0.5173\n",
            "parking: 0.0295\n",
            "rail track: 0.0017\n",
            "building: 0.7532\n",
            "wall: 0.0570\n",
            "fence: 0.0512\n",
            "guard rail: 0.0000\n",
            "bridge: 0.0058\n",
            "tunnel: 0.0000\n",
            "pole: 0.3725\n",
            "polegroup: 0.0061\n",
            "traffic light: 0.2265\n",
            "traffic sign: 0.4504\n",
            "vegetation: 0.8094\n",
            "terrain: 0.1214\n",
            "sky: 0.5351\n",
            "person: 0.3542\n",
            "rider: 0.1604\n",
            "car: 0.7562\n",
            "truck: 0.0525\n",
            "bus: 0.0808\n",
            "caravan: 0.0021\n",
            "trailer: 0.0000\n",
            "train: 0.0106\n",
            "motorcycle: 0.0351\n",
            "bicycle: 0.2471\n",
            "license plate: 0.0000\n"
          ]
        }
      ],
      "source": [
        "%cd /content/drive/MyDrive/CV_1-PYRAMIDS-files/codes_and_models\n",
        "!python pspnet_eval.py"
      ]
    },
    {
      "cell_type": "markdown",
      "metadata": {
        "id": "odlP-AhO3hOX"
      },
      "source": [
        "### IGNORE It's for debug issues"
      ]
    },
    {
      "cell_type": "code",
      "execution_count": null,
      "metadata": {
        "colab": {
          "base_uri": "https://localhost:8080/"
        },
        "id": "ISmKOBxi2mCh",
        "outputId": "fe20f0c4-5fec-45cb-b3e3-3c890207b281"
      },
      "outputs": [
        {
          "name": "stdout",
          "output_type": "stream",
          "text": [
            "Found 500 entries in fine_val.txt\n",
            "\n",
            "Checking paths for entry 1:\n",
            "Image path: /content/drive/MyDrive/CV_1-PYRAMIDS-files/cityscapes_dataset/leftImg8bit/val/frankfurt/frankfurt_000000_000294_leftImg8bit.png\n",
            "Exists: True\n",
            "Label path: /content/drive/MyDrive/CV_1-PYRAMIDS-files/cityscapes_dataset/gtFine/val/frankfurt/frankfurt_000000_000294_gtFine_labelIds.png\n",
            "Exists: True\n",
            "\n",
            "Checking paths for entry 2:\n",
            "Image path: /content/drive/MyDrive/CV_1-PYRAMIDS-files/cityscapes_dataset/leftImg8bit/val/frankfurt/frankfurt_000000_000576_leftImg8bit.png\n",
            "Exists: True\n",
            "Label path: /content/drive/MyDrive/CV_1-PYRAMIDS-files/cityscapes_dataset/gtFine/val/frankfurt/frankfurt_000000_000576_gtFine_labelIds.png\n",
            "Exists: True\n",
            "\n",
            "Checking paths for entry 3:\n",
            "Image path: /content/drive/MyDrive/CV_1-PYRAMIDS-files/cityscapes_dataset/leftImg8bit/val/frankfurt/frankfurt_000000_001016_leftImg8bit.png\n",
            "Exists: True\n",
            "Label path: /content/drive/MyDrive/CV_1-PYRAMIDS-files/cityscapes_dataset/gtFine/val/frankfurt/frankfurt_000000_001016_gtFine_labelIds.png\n",
            "Exists: True\n",
            "\n",
            "Checking paths for entry 4:\n",
            "Image path: /content/drive/MyDrive/CV_1-PYRAMIDS-files/cityscapes_dataset/leftImg8bit/val/frankfurt/frankfurt_000000_001236_leftImg8bit.png\n",
            "Exists: True\n",
            "Label path: /content/drive/MyDrive/CV_1-PYRAMIDS-files/cityscapes_dataset/gtFine/val/frankfurt/frankfurt_000000_001236_gtFine_labelIds.png\n",
            "Exists: True\n",
            "\n",
            "Checking paths for entry 5:\n",
            "Image path: /content/drive/MyDrive/CV_1-PYRAMIDS-files/cityscapes_dataset/leftImg8bit/val/frankfurt/frankfurt_000000_001751_leftImg8bit.png\n",
            "Exists: True\n",
            "Label path: /content/drive/MyDrive/CV_1-PYRAMIDS-files/cityscapes_dataset/gtFine/val/frankfurt/frankfurt_000000_001751_gtFine_labelIds.png\n",
            "Exists: True\n"
          ]
        }
      ],
      "source": [
        "import os\n",
        "\n",
        "def check_dataset_paths():\n",
        "    base_path = '/content/drive/MyDrive/CV_1-PYRAMIDS-files/cityscapes_dataset'\n",
        "\n",
        "    # Read the val.txt file\n",
        "    with open(os.path.join(base_path, 'list/cityscapes/fine_val.txt'), 'r') as f:\n",
        "        lines = f.readlines()\n",
        "\n",
        "    print(f\"Found {len(lines)} entries in fine_val.txt\")\n",
        "\n",
        "    # Check first few paths\n",
        "    for i, line in enumerate(lines[:5]):\n",
        "        img_path, label_path = line.strip().split(' ')\n",
        "        full_img_path = os.path.join(base_path, img_path)\n",
        "        full_label_path = os.path.join(base_path, label_path)\n",
        "\n",
        "        print(f\"\\nChecking paths for entry {i+1}:\")\n",
        "        print(f\"Image path: {full_img_path}\")\n",
        "        print(f\"Exists: {os.path.exists(full_img_path)}\")\n",
        "        print(f\"Label path: {full_label_path}\")\n",
        "        print(f\"Exists: {os.path.exists(full_label_path)}\")\n",
        "\n",
        "if __name__ == \"__main__\":\n",
        "    check_dataset_paths()"
      ]
    }
  ],
  "metadata": {
    "accelerator": "GPU",
    "colab": {
      "gpuType": "T4",
      "provenance": [],
      "toc_visible": true
    },
    "kernelspec": {
      "display_name": "Python 3",
      "name": "python3"
    },
    "language_info": {
      "name": "python"
    }
  },
  "nbformat": 4,
  "nbformat_minor": 0
}